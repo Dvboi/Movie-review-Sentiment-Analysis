{
 "cells": [
  {
   "cell_type": "code",
   "execution_count": null,
   "metadata": {},
   "outputs": [
    {
     "name": "stdout",
     "output_type": "stream",
     "text": [
      " * Serving Flask app \"__main__\" (lazy loading)\n",
      " * Environment: production\n",
      "   WARNING: Do not use the development server in a production environment.\n",
      "   Use a production WSGI server instead.\n",
      " * Debug mode: on\n"
     ]
    },
    {
     "name": "stderr",
     "output_type": "stream",
     "text": [
      " * Running on http://127.0.0.1:5000/ (Press CTRL+C to quit)\n",
      "127.0.0.1 - - [25/Sep/2020 00:18:18] \"\u001b[37mGET / HTTP/1.1\u001b[0m\" 200 -\n",
      "127.0.0.1 - - [25/Sep/2020 00:19:06] \"\u001b[37mPOST /prediction HTTP/1.1\u001b[0m\" 200 -\n",
      "127.0.0.1 - - [25/Sep/2020 00:19:17] \"\u001b[37mPOST /prediction HTTP/1.1\u001b[0m\" 200 -\n",
      "127.0.0.1 - - [25/Sep/2020 00:19:31] \"\u001b[37mPOST /prediction HTTP/1.1\u001b[0m\" 200 -\n",
      "127.0.0.1 - - [25/Sep/2020 00:19:43] \"\u001b[37mPOST /prediction HTTP/1.1\u001b[0m\" 200 -\n",
      "127.0.0.1 - - [25/Sep/2020 00:23:00] \"\u001b[37mPOST /prediction HTTP/1.1\u001b[0m\" 200 -\n",
      "127.0.0.1 - - [25/Sep/2020 00:26:13] \"\u001b[37mPOST /prediction HTTP/1.1\u001b[0m\" 200 -\n",
      "127.0.0.1 - - [25/Sep/2020 00:26:27] \"\u001b[37mPOST /prediction HTTP/1.1\u001b[0m\" 200 -\n",
      "127.0.0.1 - - [25/Sep/2020 00:39:10] \"\u001b[37mPOST /prediction HTTP/1.1\u001b[0m\" 200 -\n",
      "127.0.0.1 - - [25/Sep/2020 00:39:31] \"\u001b[37mPOST /prediction HTTP/1.1\u001b[0m\" 200 -\n",
      "127.0.0.1 - - [25/Sep/2020 00:39:52] \"\u001b[37mPOST /prediction HTTP/1.1\u001b[0m\" 200 -\n",
      "127.0.0.1 - - [25/Sep/2020 00:40:02] \"\u001b[37mPOST /prediction HTTP/1.1\u001b[0m\" 200 -\n",
      "127.0.0.1 - - [25/Sep/2020 00:40:11] \"\u001b[37mPOST /prediction HTTP/1.1\u001b[0m\" 200 -\n",
      "127.0.0.1 - - [25/Sep/2020 00:40:29] \"\u001b[37mPOST /prediction HTTP/1.1\u001b[0m\" 200 -\n",
      "127.0.0.1 - - [25/Sep/2020 00:40:37] \"\u001b[37mPOST /prediction HTTP/1.1\u001b[0m\" 200 -\n",
      "127.0.0.1 - - [25/Sep/2020 00:41:27] \"\u001b[37mPOST /prediction HTTP/1.1\u001b[0m\" 200 -\n",
      "127.0.0.1 - - [25/Sep/2020 00:41:47] \"\u001b[37mPOST /prediction HTTP/1.1\u001b[0m\" 200 -\n",
      "127.0.0.1 - - [25/Sep/2020 00:42:01] \"\u001b[37mPOST /prediction HTTP/1.1\u001b[0m\" 200 -\n"
     ]
    }
   ],
   "source": [
    "import pickle\n",
    "import nltk\n",
    "from nltk.stem import WordNetLemmatizer\n",
    "from flask import Flask,render_template,url_for,request\n",
    "\n",
    "lemmatizer = WordNetLemmatizer()\n",
    "\n",
    "def lemma(doc):\n",
    "    ans = [lemmatizer.lemmatize(text,'v') for text in doc.split()]\n",
    "    return ans\n",
    "model = pickle.load(open(\"logistic_model.pkl\",\"rb\"))\n",
    "\n",
    "app = Flask(__name__)\n",
    "\n",
    "@app.route('/')\n",
    "def home():\n",
    "    return render_template('home.html')\n",
    "\n",
    "@app.route('/prediction',methods=['GET','POST'])\n",
    "def prediction():\n",
    "    if request.method=='POST':\n",
    "        temp = request.form['message']\n",
    "        final = model.predict([temp])\n",
    "    return render_template('prediction.html',ans=final)\n",
    "\n",
    "if __name__ == \"__main__\":\n",
    "    app.run(debug=True,use_reloader=False)"
   ]
  }
 ],
 "metadata": {
  "kernelspec": {
   "display_name": "Python 3",
   "language": "python",
   "name": "python3"
  },
  "language_info": {
   "codemirror_mode": {
    "name": "ipython",
    "version": 3
   },
   "file_extension": ".py",
   "mimetype": "text/x-python",
   "name": "python",
   "nbconvert_exporter": "python",
   "pygments_lexer": "ipython3",
   "version": "3.7.6"
  }
 },
 "nbformat": 4,
 "nbformat_minor": 4
}
